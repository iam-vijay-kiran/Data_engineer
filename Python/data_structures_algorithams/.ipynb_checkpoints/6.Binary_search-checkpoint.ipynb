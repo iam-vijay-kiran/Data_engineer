{
 "cells": [
  {
   "cell_type": "markdown",
   "id": "a667b710-3892-4059-82cd-363a5e448831",
   "metadata": {},
   "source": [
    "# Binary Search\n",
    "- In a sorted array searching an element by reducing the space of search by half for every iteration of search\n",
    "- T-O(logn) where n = no.of.elements"
   ]
  },
  {
   "cell_type": "code",
   "execution_count": null,
   "id": "dc248675-4653-45cb-a40a-107d8c63c356",
   "metadata": {},
   "outputs": [],
   "source": [
    "'''\n",
    "https://leetcode.com/problems/binary-search/\n",
    "https://www.youtube.com/watch?v=s4DPM8ct1pI&t=423s\n",
    "this is iterative approach where T - O(logn), S - O(1) as we use only 2 points and not any extra space\n",
    "'''\n",
    "class Solution:\n",
    "    def search(self, nums: List[int], target: int) -> int:\n",
    "        l, r = 0, len(nums) - 1         # initializing left & right pointers\n",
    "\n",
    "        while l <= r:                   # loops only when l<=r\n",
    "            m = l + ((r-l) // 2)        # find the mid without overflowing using (r-l)//2\n",
    "            if nums[m] > target:        # if mid val > target \n",
    "                r = m - 1               # then remove right space by taking r pointer to m-1\n",
    "            elif nums[m] < target:      # if mid value < target\n",
    "                l = m + 1               # remove right space by taking l pointer to m+1\n",
    "            else:\n",
    "                return m                # if not both then m is the value\n",
    "        return -1                 # they they are not value is not present in array then return -1\n",
    "\n",
    "\n",
    "'''\n",
    "Recursive Approach\n",
    "T - O(logn), Space - O(logn) as we use space to store recursive values\n",
    "'''\n",
    "class Solution:\n",
    "    def binary_search(self, l: int, r: int, nums: List[int], target: int) -> int:\n",
    "        if l > r:\n",
    "            return -1\n",
    "        m = l + (r - l) // 2\n",
    "        \n",
    "        if nums[m] == target:\n",
    "            return m\n",
    "        if nums[m] < target:\n",
    "            return self.binary_search(m + 1, r, nums, target)\n",
    "        return self.binary_search(l, m - 1, nums, target)\n",
    "\n",
    "    def search(self, nums: List[int], target: int) -> int:\n",
    "        return self.binary_search(0, len(nums) - 1, nums, target)"
   ]
  },
  {
   "cell_type": "code",
   "execution_count": 1,
   "id": "f651e558-1ba0-4044-9e46-8f97546f5cfe",
   "metadata": {},
   "outputs": [
    {
     "name": "stdout",
     "output_type": "stream",
     "text": [
      "3\n",
      "4\n"
     ]
    }
   ],
   "source": [
    "matrix = [[1,3,5,7],[10,11,16,20],[23,30,34,60]]\n",
    "rows, cols = len(matrix), len(matrix[0])\n",
    "\n",
    "print(rows)\n",
    "print(cols)"
   ]
  },
  {
   "cell_type": "code",
   "execution_count": null,
   "id": "dcfb6fad-0ba8-4da3-99d4-da5f4a7222fc",
   "metadata": {},
   "outputs": [],
   "source": [
    "'''\n",
    "https://leetcode.com/problems/search-a-2d-matrix/\n",
    "https://www.youtube.com/watch?v=Ber2pi2C0j0\n",
    "T - O(log m + log n) i.e., O(logmn) where m is for row search using binary search, n is for searching element using binary search\n",
    "S - O(1), as we only use points & no extra space taken\n",
    "'''\n",
    "# T = O(m.n) if we search each element in the matrix\n",
    "# T = O(mlogn) if we search m rows of matrix using binary search for each row\n",
    "\n",
    "# But we choose to use Binary search on entire matrix which got this effecient way\n",
    "class Solution:\n",
    "    def searchMatrix(self, matrix: List[List[int]], target: int) -> bool:\n",
    "        ROWS, COLS = len(matrix), len(matrix[0])        # taking rows, cols count\n",
    "\n",
    "        top, bot = 0, ROWS - 1                      # top, bottom rows identification\n",
    "        while top <= bot:                           # validating top,bot\n",
    "            row = (top + bot) // 2                  # checking for middle row in the matrix rows\n",
    "            if target > matrix[row][-1]:            # check target < that matrix middle row last element \n",
    "                top = row + 1                       # if s top row changes\n",
    "            elif target < matrix[row][0]:           # check target < matrix middle row 1st element\n",
    "                bot = row - 1                       # if s bot row changes\n",
    "            else:\n",
    "                break                               # else out of loop, till here we got to know which row to search\n",
    "\n",
    "        if not (top <= bot):        \n",
    "            return False\n",
    "        row = (top + bot) // 2                      # we go to that specific row\n",
    "        l, r = 0, COLS - 1                          # make the pointers for 1st & last element in that row\n",
    "        while l <= r:\n",
    "            m = (l+r) // 2                          # mid point in that row\n",
    "            if target > matrix[row][m]:             # check target> that matrix row mid element then change l pointer\n",
    "                l = m+1\n",
    "            elif target < matrix[row][m]:           # if target < that matrix row mid element then change r pointer & loop\n",
    "                r = m - 1\n",
    "            else:\n",
    "                return True                         # finally found then print true\n",
    "        return False                                # if not found in rows or in that specific row then print false\n",
    "\n",
    "\n",
    "\n",
    "# Brute force\n",
    "# T - O(m*n)\n",
    "# S - O(1)\n",
    "class Solution:\n",
    "    def searchMatrix(self, matrix: List[List[int]], target: int) -> bool:\n",
    "        for r in range(len(matrix)):\n",
    "            for c in range(len(matrix[0])):\n",
    "                if matrix[r][c] == target:\n",
    "                    return True\n",
    "        return False"
   ]
  }
 ],
 "metadata": {
  "kernelspec": {
   "display_name": "Python 3 (ipykernel)",
   "language": "python",
   "name": "python3"
  },
  "language_info": {
   "codemirror_mode": {
    "name": "ipython",
    "version": 3
   },
   "file_extension": ".py",
   "mimetype": "text/x-python",
   "name": "python",
   "nbconvert_exporter": "python",
   "pygments_lexer": "ipython3",
   "version": "3.13.0"
  }
 },
 "nbformat": 4,
 "nbformat_minor": 5
}
